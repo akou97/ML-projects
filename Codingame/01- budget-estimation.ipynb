{
 "cells": [
  {
   "cell_type": "code",
   "execution_count": 66,
   "metadata": {},
   "outputs": [],
   "source": [
    "## parameters\n",
    "nb_seats = 4\n",
    "Mvt = [1,2,5,7,1,4,3,5,0,0, 4, 6, 0, 3]\n",
    "payGuest = [10.11, 5.94, 20.98, 18.65, 2.56, 1.33, 8.59, 9.78]"
   ]
  },
  {
   "cell_type": "code",
   "execution_count": 49,
   "metadata": {},
   "outputs": [],
   "source": [
    "def get_dailyguest(Mvt, nb_seats):\n",
    "    \n",
    "    # variables\n",
    "    wait_list = []\n",
    "    posed_list = []\n",
    "    guests = []\n",
    "    count = 0\n",
    "    \n",
    "    for p in Mvt:\n",
    "        # see p is inside of casino\n",
    "        if p in wait_list:\n",
    "            # remove it\n",
    "            wait_list.remove(p)\n",
    "            count-=1\n",
    "        elif p in posed_list:\n",
    "            # remove it\n",
    "            posed_list.remove(p)\n",
    "            \n",
    "            # add first attent guest if wait list not empty\n",
    "            if len(wait_list) > 0:\n",
    "                # pose first attent guest\n",
    "                q = wait_list[0]\n",
    "                posed_list.append(q)\n",
    "                # add it whether not in guests list\n",
    "                if q not in guests:\n",
    "                    guests.append(q)\n",
    "                # remove fisrt attent guest from waiting list\n",
    "                wait_list.pop(0)\n",
    "\n",
    "        # see p is outside of casino\n",
    "        else:\n",
    "            if count == nb_seats:\n",
    "                # add it in wait list\n",
    "                wait_list.append(p)\n",
    "            else:\n",
    "                # add it in posed list\n",
    "                posed_list.append(p)\n",
    "                count+=1\n",
    "                # add it whether not in guests list\n",
    "                if p not in guests:\n",
    "                    guests.append(p)\n",
    "    \n",
    "    return guests"
   ]
  },
  {
   "cell_type": "code",
   "execution_count": 57,
   "metadata": {},
   "outputs": [],
   "source": [
    "def compute_day_gains(nbSeats, payingGuests, guestMouvements):\n",
    "    # get daily guest in the casino\n",
    "    guest = get_dailyguest(Mvt, nb_seats)\n",
    "    # get payemnt of posed guests \n",
    "    payment = [payingGuests[e] for e in guest]\n",
    "    # compute gains\n",
    "    return sum(payment)"
   ]
  },
  {
   "cell_type": "code",
   "execution_count": 58,
   "metadata": {},
   "outputs": [
    {
     "name": "stdout",
     "output_type": "stream",
     "text": [
      "# list of payement :  [10.11, 5.94, 20.98, 18.65, 2.56, 1.33, 8.59, 9.78]\n"
     ]
    }
   ],
   "source": [
    "print(\"# list of payement : \", payGuest)"
   ]
  },
  {
   "cell_type": "code",
   "execution_count": 67,
   "metadata": {},
   "outputs": [
    {
     "name": "stdout",
     "output_type": "stream",
     "text": [
      "# Daily guests :  [1, 2, 5, 7, 4, 3, 6, 0]\n",
      "# Daily income :  77.94 Eur\n"
     ]
    }
   ],
   "source": [
    "print(\"# Daily guests : \", get_dailyguest(Mvt, nb_seats))\n",
    "print(\"# Daily income :  %.2f Eur\" %compute_day_gains(nb_seats, payGuest, Mvt))"
   ]
  },
  {
   "cell_type": "code",
   "execution_count": null,
   "metadata": {},
   "outputs": [],
   "source": []
  }
 ],
 "metadata": {
  "kernelspec": {
   "display_name": "Python 3",
   "language": "python",
   "name": "python3"
  },
  "language_info": {
   "codemirror_mode": {
    "name": "ipython",
    "version": 3
   },
   "file_extension": ".py",
   "mimetype": "text/x-python",
   "name": "python",
   "nbconvert_exporter": "python",
   "pygments_lexer": "ipython3",
   "version": "3.7.6"
  }
 },
 "nbformat": 4,
 "nbformat_minor": 4
}
